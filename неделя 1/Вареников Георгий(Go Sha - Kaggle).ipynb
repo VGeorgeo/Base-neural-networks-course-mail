{
 "cells": [
  {
   "cell_type": "code",
   "execution_count": 32,
   "metadata": {},
   "outputs": [],
   "source": [
    "import pickle\n",
    "import numpy as np\n",
    "import PIL.Image\n",
    "import itertools\n",
    "from IPython.core.display import Image, display\n",
    "import scipy.ndimage\n",
    "import random\n",
    "import numpy as np\n",
    "import matplotlib.pylab as plt\n",
    "import tqdm\n",
    "import math\n",
    "import pandas as pd\n",
    "from collections import Counter\n",
    "%matplotlib inline"
   ]
  },
  {
   "cell_type": "markdown",
   "metadata": {
    "collapsed": true
   },
   "source": [
    "# Загружаем датасет"
   ]
  },
  {
   "cell_type": "code",
   "execution_count": 4,
   "metadata": {},
   "outputs": [],
   "source": [
    "with open('./hw_1_train.pickle', 'rb') as f:\n",
    "    train = pickle.load(f)\n",
    "\n",
    "with open('./hw_1_test_no_lables.pickle', 'rb') as f:\n",
    "    test_no_lables = pickle.load(f)\n",
    "    \n",
    "    "
   ]
  },
  {
   "cell_type": "code",
   "execution_count": 5,
   "metadata": {},
   "outputs": [
    {
     "data": {
      "text/plain": [
       "<matplotlib.image.AxesImage at 0x16cb765a6a0>"
      ]
     },
     "execution_count": 5,
     "metadata": {},
     "output_type": "execute_result"
    },
    {
     "data": {
      "image/png": "[encoded data removed]",
      "text/plain": [
       "<Figure size 432x288 with 1 Axes>"
      ]
     },
     "metadata": {},
     "output_type": "display_data"
    }
   ],
   "source": [
    "# Пример, как можно визуализировать данные\n",
    "plt.imshow(train['data'][4].reshape(28,28))"
   ]
  },
  {
   "cell_type": "markdown",
   "metadata": {},
   "source": [
    "# Обучаем модель"
   ]
  },
  {
   "cell_type": "code",
   "execution_count": 59,
   "metadata": {},
   "outputs": [],
   "source": [
    "from sklearn.cross_validation import train_test_split\n",
    "\n",
    "X = train['data'] # и двумя переменными\n",
    "y = train['labels']\n",
    "y[y==5] = -1 # конвертируем метки классов к 1/-1\n",
    "y[y==6] = 1\n",
    "mean = np.mean(X, axis=0)\n",
    "std = np.std(X, axis=0)\n",
    "X = (X - mean) / (std + 0.000001)\n",
    "x_train, x_test, y_train, y_test \\\n",
    "    = train_test_split(X, y, test_size=0.25, random_state=10)"
   ]
  },
  {
   "cell_type": "code",
   "execution_count": 67,
   "metadata": {},
   "outputs": [
    {
     "data": {
      "application/vnd.jupyter.widget-view+json": {
       "model_id": "5d36312f6e6b401bad4cc49861f4b099",
       "version_major": 2,
       "version_minor": 0
      },
      "text/plain": [
       "HBox(children=(IntProgress(value=0), HTML(value='')))"
      ]
     },
     "metadata": {},
     "output_type": "display_data"
    }
   ],
   "source": [
    "np.random.seed(10)\n",
    "# добавляем единичную колонку для w0\n",
    "X_train = np.hstack([ np.ones((x_train.shape[0], 1)), x_train] )\n",
    "X_test = np.hstack([ np.ones((x_test.shape[0], 1)), x_test] )\n",
    "# Инициализируем веса случайны образом\n",
    "np.random.seed(10)\n",
    "w_train = np.random.normal(scale=0.00013, size = X_train.shape[1])\n",
    "loglos_train = []\n",
    "otvet_train = []\n",
    "w_test = np.random.normal(scale=0.00013, size = X_test.shape[1])\n",
    "loglos_test = []\n",
    "otvet_test = []\n",
    "\n",
    "def sigmoid(x):\n",
    "  return 1 / (1 + math.exp(-x))\n",
    "\n",
    "import tqdm\n",
    "\n",
    "for iter in tqdm.tqdm_notebook(range(100)):\n",
    "    for i in range(X_train.shape[0]):\n",
    "        j = np.random.randint(0, X_train.shape[0])\n",
    "        grad_train = - y_train[j] * X_train[j] / \\\n",
    "            ( 1 + math.exp( y_train[j] * np.dot(w_train.T, X_train[j]) ) ) + 0 * w_train\n",
    "        w_train = w_train - 0.00013 * grad_train\n",
    "    y_hat_train = np.dot(w_train, X_train.T)\n",
    "    y_hat_train = [sigmoid(tmp) for tmp in y_hat_train]\n",
    "    loglos_train.append(np.linalg.norm(y_train - y_hat_train, 2))\n",
    "    otv = np.where(np.array(y_hat_train)<=0.5,-1,1)\n",
    "    otvet_train.append(Counter(y_train == otv)[True]/len(otv)*100)\n",
    "    \n",
    "    \n",
    "    for i in range(X_test.shape[0]):\n",
    "        j = np.random.randint(0, X_test.shape[0])\n",
    "        grad_test = - y_test[j] * X_test[j] / \\\n",
    "            ( 1 + math.exp( y_test[j] * np.dot(w_test.T, X_test[j]) ) ) + 0 * w_test\n",
    "        w_test = w_test - 0.00013 * grad_test\n",
    "    y_hat_test = np.dot(w_test, X_test.T)\n",
    "    y_hat_test = [sigmoid(tmp) for tmp in y_hat_test]\n",
    "    loglos_test.append(np.linalg.norm(y_test - y_hat_test, 2))\n",
    "    otv = np.where(np.array(y_hat_test)<=0.5,-1,1)\n",
    "    otvet_test.append(Counter(y_test == otv)[True]/len(otv)*100)"
   ]
  },
  {
   "cell_type": "code",
   "execution_count": 68,
   "metadata": {},
   "outputs": [
    {
     "data": {
      "text/plain": [
       "<matplotlib.legend.Legend at 0x16cba8fbac8>"
      ]
     },
     "execution_count": 68,
     "metadata": {},
     "output_type": "execute_result"
    },
    {
     "data": {
      "image/png": "[encoded data removed]",
      "text/plain": [
       "<Figure size 432x288 with 1 Axes>"
      ]
     },
     "metadata": {},
     "output_type": "display_data"
    }
   ],
   "source": [
    "plt.title('Acc')\n",
    "plt.plot(otvet_train, label='train')\n",
    "plt.plot(otvet_test, label='test')\n",
    "plt.legend()"
   ]
  },
  {
   "cell_type": "code",
   "execution_count": 69,
   "metadata": {},
   "outputs": [
    {
     "data": {
      "text/plain": [
       "<matplotlib.legend.Legend at 0x16cba965f98>"
      ]
     },
     "execution_count": 69,
     "metadata": {},
     "output_type": "execute_result"
    },
    {
     "data": {
      "image/png": "[encoded data removed]",
      "text/plain": [
       "<Figure size 432x288 with 1 Axes>"
      ]
     },
     "metadata": {},
     "output_type": "display_data"
    }
   ],
   "source": [
    "plt.title('Loglos')\n",
    "plt.plot(loglos_train, label='train')\n",
    "plt.plot(loglos_test, label='test')\n",
    "plt.legend()"
   ]
  },
  {
   "cell_type": "code",
   "execution_count": 71,
   "metadata": {},
   "outputs": [
    {
     "data": {
      "application/vnd.jupyter.widget-view+json": {
       "model_id": "a5c1b46f250b47b393a8834ebfbf94c8",
       "version_major": 2,
       "version_minor": 0
      },
      "text/plain": [
       "HBox(children=(IntProgress(value=0), HTML(value='')))"
      ]
     },
     "metadata": {},
     "output_type": "display_data"
    }
   ],
   "source": [
    "X = train['data'] # и двумя переменными\n",
    "y = train['labels']\n",
    "mean = np.mean(X, axis=0)\n",
    "std = np.std(X, axis=0)\n",
    "X = (X - mean) / (std + 0.000001)\n",
    "#X[np.isnan(X)] = 0\n",
    "\n",
    "# добавляем единичную колонку для w0\n",
    "np.random.seed(10)\n",
    "X = np.hstack([ np.ones((X.shape[0], 1)), X] )\n",
    "\n",
    "# Инициализируем веса случайны образом\n",
    "np.random.seed(11)\n",
    "w = np.random.normal(scale=0.00013, size = X.shape[1])\n",
    "\n",
    "import tqdm\n",
    "\n",
    "for iter in tqdm.tqdm_notebook(range(100)):\n",
    "    for i in range(X.shape[0]):\n",
    "        j = np.random.randint(0, X.shape[0])\n",
    "        grad = - y[j] * X[j] / \\\n",
    "            ( 1 + math.exp( y[j] * np.dot(w.T, X[j]) ) ) + 0 * w\n",
    "        w = w - 0.00013 * grad\n",
    "\n",
    "\n",
    "def sigmoid(x):\n",
    "  return 1 / (1 + math.exp(-x))\n",
    "\n",
    "y_hat = [sigmoid(tmp) for tmp in y_hat]"
   ]
  },
  {
   "cell_type": "code",
   "execution_count": 72,
   "metadata": {},
   "outputs": [],
   "source": [
    "X = test_no_lables['data']\n",
    "mean = np.mean(X, axis=0)\n",
    "std = np.std(X, axis=0)\n",
    "X = (X - mean) /(std + 0.00001)\n",
    "#X[np.isnan(X)] = 0\n",
    "\n",
    "\n",
    "X = np.hstack([ np.ones((X.shape[0], 1)), X] )\n",
    "\n",
    "\n",
    "\n",
    "y_hat = np.dot(w, X.T)\n",
    "def sigmoid(x):\n",
    "  return 1 / (1 + math.exp(-x))\n",
    "\n",
    "y_hat = [sigmoid(tmp) for tmp in y_hat]\n",
    "\n"
   ]
  },
  {
   "cell_type": "markdown",
   "metadata": {},
   "source": [
    "# Сохраняем данные для кагла"
   ]
  },
  {
   "cell_type": "markdown",
   "metadata": {},
   "source": [
    "https://www.kaggle.com/t/513ea517806348848dc78c4f41d44528"
   ]
  },
  {
   "cell_type": "markdown",
   "metadata": {},
   "source": [
    "Результат записывается в простой текстовый файл. Первая строчка \"Id,Prediction\", далее для каждого примера из валидационного множества записывается его Id (порядковый номер, с нуля) и вероятность принадлежности к классу '6', например '123,0.12'.\n",
    "\n",
    "Важно соблюдать тот же порядок следования элементов, что и в наборе данных. Нумерация id с 0"
   ]
  },
  {
   "cell_type": "code",
   "execution_count": 73,
   "metadata": {},
   "outputs": [],
   "source": [
    "with open('solution.csv', 'w') as fout:\n",
    "    print(\"Id,Prediction\", file=fout)\n",
    "    for i in range(len(y_hat)):\n",
    "        print(i, y_hat[i], sep=',', file=fout)"
   ]
  }
 ],
 "metadata": {
  "kernelspec": {
   "display_name": "Python 3",
   "language": "python",
   "name": "python3"
  },
  "language_info": {
   "codemirror_mode": {
    "name": "ipython",
    "version": 3
   },
   "file_extension": ".py",
   "mimetype": "text/x-python",
   "name": "python",
   "nbconvert_exporter": "python",
   "pygments_lexer": "ipython3",
   "version": "3.6.5"
  }
 },
 "nbformat": 4,
 "nbformat_minor": 2
}
